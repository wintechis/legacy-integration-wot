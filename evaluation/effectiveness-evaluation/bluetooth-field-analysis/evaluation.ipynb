{
 "cells": [
  {
   "cell_type": "code",
   "execution_count": 2,
   "metadata": {},
   "outputs": [],
   "source": [
    "import json"
   ]
  },
  {
   "cell_type": "code",
   "execution_count": 6,
   "metadata": {},
   "outputs": [],
   "source": [
    "import os\n",
    "# Get all the files in the directory\n",
    "files = [_ for _ in os.listdir(\".\") if _.endswith(\"report.json\")]\n"
   ]
  },
  {
   "cell_type": "code",
   "execution_count": 8,
   "metadata": {},
   "outputs": [],
   "source": [
    "data = json.loads(open(files[0]).read())"
   ]
  },
  {
   "cell_type": "code",
   "execution_count": 24,
   "metadata": {},
   "outputs": [],
   "source": [
    "characteristics = []\n",
    "\n",
    "for file in files:\n",
    "    data = json.loads(open(file).read())\n",
    "    for device in data['devices'].values():\n",
    "        for service in device['services']:\n",
    "            for characteristic in service['characteristics']:\n",
    "                characteristics.append(f\"{service['uuid']}/{characteristic['uuid']}\")"
   ]
  },
  {
   "cell_type": "code",
   "execution_count": 32,
   "metadata": {},
   "outputs": [
    {
     "name": "stdout",
     "output_type": "stream",
     "text": [
      "Counter({'normal': 1028})\n",
      "Counter({'normal': 559})\n"
     ]
    }
   ],
   "source": [
    "from collections import Counter\n",
    "\n",
    "updateded_characteristics = [\"normal\" for _ in characteristics if (len(_) == 9)]\n",
    "print(\"Standard Service Capabilities:\" + Counter(updateded_characteristics))\n",
    "updateded_characteristics = [\"normal\" for _ in characteristics if (len(_) != 9)]\n",
    "print(\"Standard Service Capabilities:\" + Counter(updateded_characteristics))\n"
   ]
  },
  {
   "cell_type": "code",
   "execution_count": null,
   "metadata": {},
   "outputs": [],
   "source": []
  },
  {
   "cell_type": "code",
   "execution_count": null,
   "metadata": {},
   "outputs": [],
   "source": []
  }
 ],
 "metadata": {
  "kernelspec": {
   "display_name": "Python 3",
   "language": "python",
   "name": "python3"
  },
  "language_info": {
   "codemirror_mode": {
    "name": "ipython",
    "version": 3
   },
   "file_extension": ".py",
   "mimetype": "text/x-python",
   "name": "python",
   "nbconvert_exporter": "python",
   "pygments_lexer": "ipython3",
   "version": "3.10.12"
  }
 },
 "nbformat": 4,
 "nbformat_minor": 2
}
