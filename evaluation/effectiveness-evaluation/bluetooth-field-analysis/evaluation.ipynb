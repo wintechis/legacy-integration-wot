{
 "cells": [
  {
   "cell_type": "code",
   "execution_count": 2,
   "metadata": {},
   "outputs": [],
   "source": [
    "import json"
   ]
  },
  {
   "cell_type": "code",
   "execution_count": 6,
   "metadata": {},
   "outputs": [],
   "source": [
    "import os\n",
    "# Get all the files in the directory\n",
    "files = [_ for _ in os.listdir(\".\") if _.endswith(\"report.json\")]\n"
   ]
  },
  {
   "cell_type": "code",
   "execution_count": 8,
   "metadata": {},
   "outputs": [],
   "source": [
    "data = json.loads(open(files[0]).read())"
   ]
  },
  {
   "cell_type": "code",
   "execution_count": 24,
   "metadata": {},
   "outputs": [],
   "source": [
    "characteristics = []\n",
    "\n",
    "for file in files:\n",
    "    data = json.loads(open(file).read())\n",
    "    for device in data['devices'].values():\n",
    "        for service in device['services']:\n",
    "            for characteristic in service['characteristics']:\n",
    "                characteristics.append(f\"{service['uuid']}/{characteristic['uuid']}\")"
   ]
  },
  {
   "cell_type": "code",
   "execution_count": 32,
   "metadata": {},
   "outputs": [
    {
     "name": "stdout",
     "output_type": "stream",
     "text": [
      "Counter({'normal': 1028})\n",
      "Counter({'normal': 559})\n"
     ]
    }
   ],
   "source": [
    "updateded_characteristics = [\"normal\" for _ in characteristics if (len(_) == 9)]\n",
    "print(Counter(updateded_characteristics))\n",
    "updateded_characteristics = [\"normal\" for _ in characteristics if (len(_) != 9)]\n",
    "print(Counter(updateded_characteristics))\n"
   ]
  },
  {
   "cell_type": "code",
   "execution_count": 26,
   "metadata": {},
   "outputs": [
    {
     "data": {
      "text/plain": [
       "Counter({'1800/2A00': 131,\n",
       "         '1800/2A01': 131,\n",
       "         '1801/2A05': 124,\n",
       "         '180A/2A29': 105,\n",
       "         '180A/2A24': 105,\n",
       "         'D0611E78BBB44591A5F8487910AE4366/8667556C9A374C9184ED54EE27D90049': 41,\n",
       "         '9FA480E0496745429390D343DC5D04AE/AF0BADB15B9943CD917AA77BC549E3CC': 41,\n",
       "         '180F/2A19': 28,\n",
       "         '1805/2A2B': 28,\n",
       "         '1805/2A0F': 28,\n",
       "         '7905F431B5CE4E99A40F4B1E122D00D0/69D1D8F345E149A898219BBDFDAAD9D9': 28,\n",
       "         '7905F431B5CE4E99A40F4B1E122D00D0/9FBF120D630142D98C5825E699A21DBD': 28,\n",
       "         '7905F431B5CE4E99A40F4B1E122D00D0/22EAC6E924D64BB5BE44B36ACE7C7BFB': 28,\n",
       "         '89D3502B0F36433A8EF4C502AD55F8DC/9B3C81D857B14A8AB8DF0E56F7CA51C2': 28,\n",
       "         '89D3502B0F36433A8EF4C502AD55F8DC/2F7CABCE808D411F9A0CBB92BA96C102': 28,\n",
       "         '89D3502B0F36433A8EF4C502AD55F8DC/C6B2F38C23AB46D8A6ABA3A870BBD5D7': 28,\n",
       "         '1801/2B3A': 14,\n",
       "         '1801/2B29': 14,\n",
       "         '1801/2B2A': 14,\n",
       "         '1800/2AA6': 83,\n",
       "         'FD7E/0000AA2B00001000900000609F1BFD7E': 11,\n",
       "         '1800/2A04': 76,\n",
       "         '180A/2A27': 62,\n",
       "         '180A/2A26': 64,\n",
       "         '6E400001B5A3F393E0A9E50E24DCCA9E/6E400002B5A3F393E0A9E50E24DCCA9E': 62,\n",
       "         '6E400001B5A3F393E0A9E50E24DCCA9E/6E400003B5A3F393E0A9E50E24DCCA9E': 62,\n",
       "         'ABBAFC00E56A484CB8328B17CF6CBFE8/ABBAFC01E56A484CB8328B17CF6CBFE8': 3,\n",
       "         'ABBAFC00E56A484CB8328B17CF6CBFE8/ABBAFC02E56A484CB8328B17CF6CBFE8': 3,\n",
       "         'ABBAFC00E56A484CB8328B17CF6CBFE8/ABBAFC03E56A484CB8328B17CF6CBFE8': 3,\n",
       "         '180A/2A50': 13,\n",
       "         '1804/2A07': 6,\n",
       "         'FD44/4F860001943B49EFBED42F730304427A': 6,\n",
       "         'FD44/4F860002943B49EFBED42F730304427A': 6,\n",
       "         'FD44/4F860003943B49EFBED42F730304427A': 6,\n",
       "         'FD44/4F860004943B49EFBED42F730304427A': 6,\n",
       "         'FD44/4F860006943B49EFBED42F730304427A': 6,\n",
       "         '872901023C5143B1A1A911B9DC38478B/6AA5000163524D57A7B4003A416FBB0B': 6,\n",
       "         '872901023C5143B1A1A911B9DC38478B/6AA5000263524D57A7B4003A416FBB0B': 6,\n",
       "         '872901023C5143B1A1A911B9DC38478B/6AA5000363524D57A7B4003A416FBB0B': 6,\n",
       "         '872901023C5143B1A1A911B9DC38478B/6AA5000563524D57A7B4003A416FBB0B': 6,\n",
       "         '872901023C5143B1A1A911B9DC38478B/6AA5000663524D57A7B4003A416FBB0B': 6,\n",
       "         '872901023C5143B1A1A911B9DC38478B/6AA5000763524D57A7B4003A416FBB0B': 6,\n",
       "         '872901023C5143B1A1A911B9DC38478B/6AA5000863524D57A7B4003A416FBB0B': 6,\n",
       "         '872901023C5143B1A1A911B9DC38478B/6AA5000963524D57A7B4003A416FBB0B': 6,\n",
       "         '872901023C5143B1A1A911B9DC38478B/6AA5000A63524D57A7B4003A416FBB0B': 6,\n",
       "         '4715650B5E9D4AC2B898A4FC0AA5DF78/941100016D9B4225A4F16A4A7F01B0DE': 6,\n",
       "         '2EE26CD4C04E41CE905AB4054F5D1770/71060001413A41EAAF868CECFA21D057': 6,\n",
       "         '494E54454C4C495F524F434B535F4857/494E54454C4C495F524F434B535F2011': 7,\n",
       "         '494E54454C4C495F524F434B535F4857/494E54454C4C495F524F434B535F2012': 7,\n",
       "         '494E54454C4C495F524F434B535F4857/494E54454C4C495F524F434B535F2013': 7,\n",
       "         '000102030405060708090A0B0C0D1912/000102030405060708090A0B0C0D2B12': 7,\n",
       "         '180A/2A28': 2,\n",
       "         'EED6D5CCC3B24D7B8C6B7ACBF7965BB6/2FB6A5AA12194129BC97DD4DF70613CD': 2,\n",
       "         '7DFC80007D1C495186AA8D9728F8D66C/7DFC80047D1C495186AA8D9728F8D66C': 1,\n",
       "         '7DFC70007D1C495186AA8D9728F8D66C/7DFC700A7D1C495186AA8D9728F8D66C': 1,\n",
       "         '7DFC70007D1C495186AA8D9728F8D66C/7DFC70047D1C495186AA8D9728F8D66C': 1,\n",
       "         '7DFC70007D1C495186AA8D9728F8D66C/7DFC71037D1C495186AA8D9728F8D66C': 1,\n",
       "         '7DFC70007D1C495186AA8D9728F8D66C/7DFC71047D1C495186AA8D9728F8D66C': 1,\n",
       "         '7DFC70007D1C495186AA8D9728F8D66C/7DFC71057D1C495186AA8D9728F8D66C': 1,\n",
       "         '7DFC70007D1C495186AA8D9728F8D66C/7DFC710C7D1C495186AA8D9728F8D66C': 1,\n",
       "         '7DFC70007D1C495186AA8D9728F8D66C/7DFC710D7D1C495186AA8D9728F8D66C': 1,\n",
       "         '7DFC70007D1C495186AA8D9728F8D66C/7DFC710B7D1C495186AA8D9728F8D66C': 1,\n",
       "         '7DFC70007D1C495186AA8D9728F8D66C/7DFC71067D1C495186AA8D9728F8D66C': 1,\n",
       "         '7DFC70007D1C495186AA8D9728F8D66C/7DFC70057D1C495186AA8D9728F8D66C': 1,\n",
       "         '7DFC70007D1C495186AA8D9728F8D66C/7DFC70037D1C495186AA8D9728F8D66C': 1,\n",
       "         '7DFC70007D1C495186AA8D9728F8D66C/7DFC70067D1C495186AA8D9728F8D66C': 1,\n",
       "         '7DFC70007D1C495186AA8D9728F8D66C/7DFC71077D1C495186AA8D9728F8D66C': 1,\n",
       "         '7DFC70007D1C495186AA8D9728F8D66C/7DFC71087D1C495186AA8D9728F8D66C': 1,\n",
       "         '7DFC70007D1C495186AA8D9728F8D66C/7DFC71097D1C495186AA8D9728F8D66C': 1,\n",
       "         '7DFC70007D1C495186AA8D9728F8D66C/7DFC70087D1C495186AA8D9728F8D66C': 1,\n",
       "         '7DFC70007D1C495186AA8D9728F8D66C/7DFC700B7D1C495186AA8D9728F8D66C': 1,\n",
       "         '7DFC70007D1C495186AA8D9728F8D66C/7DFC70097D1C495186AA8D9728F8D66C': 1,\n",
       "         '7DFC70007D1C495186AA8D9728F8D66C/7DFC700C7D1C495186AA8D9728F8D66C': 1,\n",
       "         '7DFC70007D1C495186AA8D9728F8D66C/7DFC70077D1C495186AA8D9728F8D66C': 1,\n",
       "         '7DFC60007D1C495186AA8D9728F8D66C/7DFC60017D1C495186AA8D9728F8D66C': 1,\n",
       "         '7DFC60007D1C495186AA8D9728F8D66C/7DFC60047D1C495186AA8D9728F8D66C': 1,\n",
       "         '7DFC60007D1C495186AA8D9728F8D66C/7DFC60037D1C495186AA8D9728F8D66C': 1,\n",
       "         '7DFC60007D1C495186AA8D9728F8D66C/7DFC60027D1C495186AA8D9728F8D66C': 1,\n",
       "         '7DFC60007D1C495186AA8D9728F8D66C/7DFC61017D1C495186AA8D9728F8D66C': 1,\n",
       "         '7DFC60007D1C495186AA8D9728F8D66C/7DFC61027D1C495186AA8D9728F8D66C': 1,\n",
       "         '7DFC60007D1C495186AA8D9728F8D66C/7DFC61037D1C495186AA8D9728F8D66C': 1,\n",
       "         '7DFC60007D1C495186AA8D9728F8D66C/7DFC61047D1C495186AA8D9728F8D66C': 1,\n",
       "         '7DFC60007D1C495186AA8D9728F8D66C/7DFC61057D1C495186AA8D9728F8D66C': 1,\n",
       "         '7DFC60007D1C495186AA8D9728F8D66C/7DFC61067D1C495186AA8D9728F8D66C': 1,\n",
       "         '7DFC60007D1C495186AA8D9728F8D66C/7DFC61077D1C495186AA8D9728F8D66C': 1,\n",
       "         '7DFC60007D1C495186AA8D9728F8D66C/7DFC61087D1C495186AA8D9728F8D66C': 1,\n",
       "         '7DFC60007D1C495186AA8D9728F8D66C/7DFC62017D1C495186AA8D9728F8D66C': 1,\n",
       "         '7DFC60007D1C495186AA8D9728F8D66C/7DFC62027D1C495186AA8D9728F8D66C': 1,\n",
       "         '7DFC60007D1C495186AA8D9728F8D66C/7DFC62037D1C495186AA8D9728F8D66C': 1,\n",
       "         '7DFC60007D1C495186AA8D9728F8D66C/7DFC60057D1C495186AA8D9728F8D66C': 1,\n",
       "         '7DFC90007D1C495186AA8D9728F8D66C/7DFC90017D1C495186AA8D9728F8D66C': 1,\n",
       "         '7DFC90007D1C495186AA8D9728F8D66C/7DFC90037D1C495186AA8D9728F8D66C': 1})"
      ]
     },
     "execution_count": 26,
     "metadata": {},
     "output_type": "execute_result"
    }
   ],
   "source": [
    "from collections import Counter\n",
    "Counter(characteristics)"
   ]
  },
  {
   "cell_type": "code",
   "execution_count": null,
   "metadata": {},
   "outputs": [],
   "source": []
  }
 ],
 "metadata": {
  "kernelspec": {
   "display_name": "Python 3",
   "language": "python",
   "name": "python3"
  },
  "language_info": {
   "codemirror_mode": {
    "name": "ipython",
    "version": 3
   },
   "file_extension": ".py",
   "mimetype": "text/x-python",
   "name": "python",
   "nbconvert_exporter": "python",
   "pygments_lexer": "ipython3",
   "version": "3.10.12"
  }
 },
 "nbformat": 4,
 "nbformat_minor": 2
}
