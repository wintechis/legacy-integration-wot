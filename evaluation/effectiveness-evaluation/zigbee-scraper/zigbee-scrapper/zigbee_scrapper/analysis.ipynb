{
 "cells": [
  {
   "cell_type": "code",
   "execution_count": 2,
   "metadata": {},
   "outputs": [],
   "source": []
  },
  {
   "cell_type": "code",
   "execution_count": 35,
   "metadata": {},
   "outputs": [
    {
     "data": {
      "text/plain": [
       "10139"
      ]
     },
     "execution_count": 35,
     "metadata": {},
     "output_type": "execute_result"
    }
   ],
   "source": [
    "import os\n",
    "\n",
    "folder_path = \"../data/product_documentations\"\n",
    "file_list = []\n",
    "\n",
    "for root, dirs, files in os.walk(folder_path):\n",
    "    print(len(dirs))\n",
    "    for file in files:\n",
    "        file_path = os.path.join(root, file)\n",
    "\n",
    "        file_list.append(file_path)\n",
    "\n",
    "len(file_list)"
   ]
  },
  {
   "cell_type": "code",
   "execution_count": 40,
   "metadata": {},
   "outputs": [],
   "source": [
    "import re\n",
    "from collections import defaultdict, Counter\n",
    "import pandas as pd\n",
    "\n",
    "file_dict = defaultdict(list)\n",
    "res = []\n",
    "for file_path in file_list:\n",
    "    folder = re.search(r\"(?<=product_documentations\\/).*\", file_path)\n",
    "\n",
    "    if folder:\n",
    "        folder = folder.group().split(\"/\")\n",
    "        folder_name = folder[0]\n",
    "        file_path = folder[1]\n",
    "\n",
    "        file_path = re.sub(r\".*(?=0x\\d\\d\\d\\d)\", \"\", file_path)\n",
    "        res.append(file_path)\n",
    "        file_dict[folder_name].append(file_path)\n",
    "\n",
    "\n",
    "clusters = dict(Counter(res))\n",
    "cluster_df = pd.DataFrame.from_dict(clusters, orient=\"index\").reset_index()\n",
    "cluster_df.to_csv(\"../data/cluster.csv\", index=False)"
   ]
  },
  {
   "cell_type": "code",
   "execution_count": 31,
   "metadata": {},
   "outputs": [],
   "source": [
    "import subprocess\n",
    "\n",
    "\n",
    "def is_rar(file_path: str) -> bool:\n",
    "    if file_path.endswith(\".rar\"):\n",
    "        return True\n",
    "    return False\n",
    "\n",
    "\n",
    "def unrar(file_path: str, dest_path: str):\n",
    "    subprocess.run([\"7z\", \"-aoa\", \"e\", f\"-o{dest_path}\", file_path])"
   ]
  },
  {
   "cell_type": "code",
   "execution_count": null,
   "metadata": {},
   "outputs": [],
   "source": [
    "import os\n",
    "\n",
    "path = \"/home/rene/Repositories/PhD/woble-system/legacy-integration-wot/evaluation/effectiveness-evaluation/zigbee-scraper/zigbee-scrapper/data/unknown_files/\"\n",
    "for root, dirs, files in os.walk(path):\n",
    "    for name in files:\n",
    "        file_path = os.path.join(root, name)\n",
    "\n",
    "        if is_rar(file_path):\n",
    "            new_path = os.path.join(\n",
    "                root.replace(\"unknown_files/\", \"product_documentations/\"),\n",
    "                name.replace(\".rar\", \"\"),\n",
    "            )\n",
    "            try:\n",
    "                unrar(file_path, new_path)\n",
    "            except:\n",
    "                print(f\"Error with {file_path}\")"
   ]
  },
  {
   "cell_type": "code",
   "execution_count": 2,
   "metadata": {},
   "outputs": [],
   "source": [
    "import json\n",
    "\n",
    "\n",
    "with open(\"../data/products.json\", \"r\") as f:\n",
    "    products = json.loads(f.read())"
   ]
  },
  {
   "cell_type": "code",
   "execution_count": 4,
   "metadata": {},
   "outputs": [
    {
     "data": {
      "text/plain": [
       "1559"
      ]
     },
     "execution_count": 4,
     "metadata": {},
     "output_type": "execute_result"
    }
   ],
   "source": [
    "len(products)"
   ]
  },
  {
   "cell_type": "code",
   "execution_count": null,
   "metadata": {},
   "outputs": [],
   "source": []
  }
 ],
 "metadata": {
  "kernelspec": {
   "display_name": "zigbee-scrapper-hP8lcRGV-py3.9",
   "language": "python",
   "name": "python3"
  },
  "language_info": {
   "codemirror_mode": {
    "name": "ipython",
    "version": 3
   },
   "file_extension": ".py",
   "mimetype": "text/x-python",
   "name": "python",
   "nbconvert_exporter": "python",
   "pygments_lexer": "ipython3",
   "version": "3.10.12"
  }
 },
 "nbformat": 4,
 "nbformat_minor": 2
}
