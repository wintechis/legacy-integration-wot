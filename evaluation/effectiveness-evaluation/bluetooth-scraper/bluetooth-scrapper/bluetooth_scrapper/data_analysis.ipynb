{
 "cells": [
  {
   "cell_type": "code",
   "execution_count": null,
   "metadata": {},
   "outputs": [],
   "source": []
  },
  {
   "cell_type": "code",
   "execution_count": null,
   "metadata": {},
   "outputs": [],
   "source": [
    "\n",
    "import os\n",
    "import json\n",
    "\n",
    "layers = []\n",
    "\n",
    "device_dict = {}\n",
    "devices = 0\n",
    "for file in os.listdir('../../data/device_details'):\n",
    "    if file.endswith('.json'):\n",
    "        #print(file)\n",
    "        with open(f'../../data/device_details/{file}') as f:\n",
    "            data = json.load(f)\n",
    "            if data is None:\n",
    "                print(file)\n",
    "                continue\n",
    "            try:\n",
    "                device_dict[file] = {\"layers\": [],\n",
    "                                    \"ListingDate\": data[\"ListingDate\"],\n",
    "                                }\n",
    "            except:\n",
    "                print(file)\n",
    "                \n",
    "            if \"QualifiedDesign\" in data:\n",
    "                if data[\"QualifiedDesign\"] is not None:\n",
    "                    if \"Layers\" in data[\"QualifiedDesign\"]:\n",
    "                        layers.extend(data[\"QualifiedDesign\"][\"Layers\"])\n",
    "                        device_dict[file]['layers'].extend(data[\"QualifiedDesign\"][\"Layers\"])\n",
    "                        devices += 1\n",
    "                        continue\n",
    "                        print([\"QualifiedDesign\"][\"Layers\"])\n",
    "            if \"ReferencedQualifiedDesigns\" in data:\n",
    "                if data[\"ReferencedQualifiedDesigns\"] is not None:\n",
    "                    trigger = False\n",
    "                    for reference in data[\"ReferencedQualifiedDesigns\"]:\n",
    "                        \n",
    "                        if \"Layers\" in reference.keys():\n",
    "                            # print(reference[\"Layers\"])\n",
    "                            layers.extend(reference[\"Layers\"])\n",
    "                            trigger = True\n",
    "                            device_dict[file]['layers'].extend(reference[\"Layers\"])\n",
    "                            devices += 1\n",
    "                            # print([\"ReferencedQualifiedDesigns\"][\"Layers\"])\n",
    "                    if trigger:\n",
    "                        continue\n",
    "            print(file)\n",
    "            print(\"error no layer found\")\n",
    "            #[\"ReferencedQualifiedDesigns\"][\"Layers\"]"
   ]
  },
  {
   "cell_type": "code",
   "execution_count": null,
   "metadata": {},
   "outputs": [],
   "source": [
    "from collections import Counter\n",
    "\n",
    "#print(layers[0])\n",
    "# Use a list comprehension to extract FullName values and count them with Counter\n",
    "fullname_counts = Counter([layer[\"FullName\"] for layer in layers])\n",
    "\n",
    "print(fullname_counts)"
   ]
  },
  {
   "cell_type": "code",
   "execution_count": null,
   "metadata": {},
   "outputs": [],
   "source": [
    "device_dict"
   ]
  },
  {
   "cell_type": "code",
   "execution_count": null,
   "metadata": {},
   "outputs": [],
   "source": [
    "import pandas as pd\n",
    "\n",
    "for value, freq in fullname_counts.items():\n",
    "    print(f\"{value}: {freq}\")\n",
    "\n",
    "# Create a DataFrame from the frequency dictionary\n",
    "df_frequency = pd.DataFrame.from_dict(fullname_counts, orient='index', columns=['Frequency'])\n",
    "\n",
    "# Save the DataFrame as a CSV file\n",
    "df_frequency.to_csv('../../data/results/bluetooth_frequency.csv')\n"
   ]
  }
 ],
 "metadata": {
  "kernelspec": {
   "display_name": "bluetooth-scrapper-CEwU9sXW-py3.9",
   "language": "python",
   "name": "python3"
  },
  "language_info": {
   "codemirror_mode": {
    "name": "ipython",
    "version": 3
   },
   "file_extension": ".py",
   "mimetype": "text/x-python",
   "name": "python",
   "nbconvert_exporter": "python",
   "pygments_lexer": "ipython3",
   "version": "3.9.13"
  }
 },
 "nbformat": 4,
 "nbformat_minor": 2
}
