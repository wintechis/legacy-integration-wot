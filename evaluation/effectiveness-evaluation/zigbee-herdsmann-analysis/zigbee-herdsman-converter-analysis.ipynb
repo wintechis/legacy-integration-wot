{
 "cells": [
  {
   "cell_type": "markdown",
   "metadata": {},
   "source": [
    "# ZigBee2MQTT Capability Extraction Script\n",
    "The following script has been used in the RetroWoT Paper to extract the service capabilities of devices. \n",
    "ZigBee2MQTT structures device model descriptions in the following format:\n",
    "\n",
    "```\n",
    "const definitions: Definition[] = [\n",
    "    {\n",
    "        zigbeeModel: ['DimmerSwitch-2Gang-ZB3.0'],\n",
    "        model: 'D086-ZG',\n",
    "        vendor: 'HZC Electric',\n",
    "        description: 'Zigbee dual dimmer',\n",
    "        extend: [\n",
    "            deviceEndpoints({endpoints: {'l1': 1, 'l2': 2}}),\n",
    "            light({endpointNames: ['l1', 'l2'], configureReporting: true}),\n",
    "        ],\n",
    "    },\n",
    "    {\n",
    "        zigbeeModel: ['TempAndHumSensor-ZB3.0'],\n",
    "        model: 'S093TH-ZG',\n",
    "        vendor: 'HZC Electric',\n",
    "        description: 'Temperature and humidity sensor',\n",
    "        fromZigbee: [fz.temperature, fz.humidity, fz.linkquality_from_basic], <--- We need to extract this line\n",
    "        toZigbee: [],                                                         <--- We need to extract this line\n",
    "        extend: [e.temperature(), e.humidity()],\n",
    "        exposes: [e.temperature(), e.humidity()], // Unfortunately, battery percentage is not reported by this device\n",
    "    },\n",
    "];\n",
    "```\n",
    "\n",
    "The clusters provided by these devices can be identified within the lines: \"fromZigbee\" and \"toZigbee\".\n",
    "\n",
    "\"fromZigbee\" provides service capabilities of the device that can be read by another device, such as the temperature or humidity in this case.\n",
    "\n",
    "\"toZigbee\" provides service capabilities of the device to manipulate it. This can be for example changing the brightness of a light.\n",
    "\n",
    "With this script we extract for each document these lines, so we can analyse and clean them further in excel."
   ]
  },
  {
   "cell_type": "code",
   "execution_count": 2,
   "metadata": {},
   "outputs": [],
   "source": [
    "from typing import List\n",
    "import re\n",
    "\n",
    "\n",
    "def get_fz_functions(content: str) -> List[str]:\n",
    "    pattern = r\"(?:\\w+\\.)*fz\\.\\w+\"\n",
    "    matches = re.findall(pattern, content)\n",
    "    return matches\n",
    "\n",
    "\n",
    "def get_tz_functions(content: str) -> List[str]:\n",
    "    pattern = r\"(?:\\w+\\.)*tz\\.\\w+\"\n",
    "    matches = re.findall(pattern, content)\n",
    "    return matches\n",
    "\n",
    "\n",
    "def get_extend_lines(content: str) -> List[str]:\n",
    "    res = []\n",
    "    pattern = r\".*extend.*\"\n",
    "    extend_lines = re.findall(pattern, content)\n",
    "    function_pattern = r\"(\\w+)\\(\"\n",
    "\n",
    "    for line in extend_lines:\n",
    "        function_calls = re.findall(function_pattern, line)\n",
    "        res += function_calls\n",
    "\n",
    "    return res"
   ]
  },
  {
   "cell_type": "code",
   "execution_count": 3,
   "metadata": {},
   "outputs": [],
   "source": [
    "import os\n",
    "\n",
    "from collections import Counter\n",
    "import pandas as pd\n",
    "\n",
    "folder_path = \"./zigbee-herdsman-converters/src/devices/\"\n",
    "services = []\n",
    "counter = 0\n",
    "# Iterate over the files in the folder\n",
    "for file_name in os.listdir(folder_path):\n",
    "    file_path = os.path.join(folder_path, file_name)\n",
    "\n",
    "    # Check if the file is a document\n",
    "    if os.path.isfile(file_path):\n",
    "        with open(file_path, \"r\") as file:\n",
    "            content = file.read()\n",
    "\n",
    "            # Call the extract_info function on the document content\n",
    "            services += get_fz_functions(content)\n",
    "            services += get_tz_functions(content)\n",
    "            services += get_extend_lines(content)\n",
    "\n",
    "            counter += 1\n",
    "\n",
    "\n",
    "data = dict(Counter(services))\n",
    "\n",
    "pd.DataFrame(data.items(), columns=[\"Service\", \"Count\"]).sort_values(\n",
    "    \"Count\", ascending=False\n",
    ").to_csv(\"zigbee_herdmans_frequency_new.csv\", index=False)"
   ]
  },
  {
   "cell_type": "code",
   "execution_count": 4,
   "metadata": {},
   "outputs": [
    {
     "name": "stdout",
     "output_type": "stream",
     "text": [
      "294\n"
     ]
    }
   ],
   "source": [
    "print(counter)"
   ]
  },
  {
   "cell_type": "code",
   "execution_count": null,
   "metadata": {},
   "outputs": [],
   "source": []
  }
 ],
 "metadata": {
  "kernelspec": {
   "display_name": "zigbee-scrapper-hP8lcRGV-py3.9",
   "language": "python",
   "name": "python3"
  },
  "language_info": {
   "codemirror_mode": {
    "name": "ipython",
    "version": 3
   },
   "file_extension": ".py",
   "mimetype": "text/x-python",
   "name": "python",
   "nbconvert_exporter": "python",
   "pygments_lexer": "ipython3",
   "version": "3.10.12"
  }
 },
 "nbformat": 4,
 "nbformat_minor": 2
}
